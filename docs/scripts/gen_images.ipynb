{
 "cells": [
  {
   "cell_type": "code",
   "execution_count": 20,
   "metadata": {},
   "outputs": [],
   "source": [
    "from proof_data_analysis import load_df, \\\n",
    "calc_statistics, plot_kmeans_cluster, plot_parsable, plot_depth, \\\n",
    "plot_edits, plot_problem, plot_letter_count, plot_line_changes\n",
    "import matplotlib.pyplot as plt\n",
    "import sys\n",
    "sys.path.append(\"../\")"
   ]
  },
  {
   "cell_type": "code",
   "execution_count": 21,
   "metadata": {},
   "outputs": [
    {
     "name": "stdout",
     "output_type": "stream",
     "text": [
      "The autoreload extension is already loaded. To reload it, use:\n",
      "  %reload_ext autoreload\n"
     ]
    }
   ],
   "source": [
    "%load_ext autoreload\n",
    "%autoreload 2"
   ]
  },
  {
   "cell_type": "code",
   "execution_count": 22,
   "metadata": {},
   "outputs": [],
   "source": [
    "df = load_df(\"../../data/sessions.json\")"
   ]
  },
  {
   "cell_type": "code",
   "execution_count": null,
   "metadata": {},
   "outputs": [],
   "source": [
    "img_path = \"../source/images/\""
   ]
  },
  {
   "cell_type": "code",
   "execution_count": null,
   "metadata": {},
   "outputs": [
    {
     "data": {
      "text/html": [
       "<div>\n",
       "<style scoped>\n",
       "    .dataframe tbody tr th:only-of-type {\n",
       "        vertical-align: middle;\n",
       "    }\n",
       "\n",
       "    .dataframe tbody tr th {\n",
       "        vertical-align: top;\n",
       "    }\n",
       "\n",
       "    .dataframe thead th {\n",
       "        text-align: right;\n",
       "    }\n",
       "</style>\n",
       "<table border=\"1\" class=\"dataframe\">\n",
       "  <thead>\n",
       "    <tr style=\"text-align: right;\">\n",
       "      <th></th>\n",
       "      <th>Session_ID</th>\n",
       "      <th>User_ID</th>\n",
       "      <th>Problem_ID</th>\n",
       "      <th>Problem_Start_Time</th>\n",
       "      <th>Problem_End_Time</th>\n",
       "      <th>Time</th>\n",
       "      <th>Text_Change</th>\n",
       "      <th>Start_Line</th>\n",
       "      <th>End_Line</th>\n",
       "      <th>Start_Char</th>\n",
       "      <th>End_Char</th>\n",
       "      <th>Tests_Passed</th>\n",
       "      <th>Event_Type</th>\n",
       "    </tr>\n",
       "  </thead>\n",
       "  <tbody>\n",
       "    <tr>\n",
       "      <th>0</th>\n",
       "      <td>63643bd1019eb46f777f14ba</td>\n",
       "      <td>temp_id</td>\n",
       "      <td>temp_problem_id</td>\n",
       "      <td>2022-11-03T22:08:12.250Z</td>\n",
       "      <td>2022-11-03T22:08:17.255Z</td>\n",
       "      <td>2022-11-03 18:08:13.299</td>\n",
       "      <td>\\n</td>\n",
       "      <td>1</td>\n",
       "      <td>1</td>\n",
       "      <td>21</td>\n",
       "      <td>21</td>\n",
       "      <td>[]</td>\n",
       "      <td>insert</td>\n",
       "    </tr>\n",
       "    <tr>\n",
       "      <th>1</th>\n",
       "      <td>63643bd1019eb46f777f14ba</td>\n",
       "      <td>temp_id</td>\n",
       "      <td>temp_problem_id</td>\n",
       "      <td>2022-11-03T22:08:12.250Z</td>\n",
       "      <td>2022-11-03T22:08:17.255Z</td>\n",
       "      <td>2022-11-03 18:08:14.016</td>\n",
       "      <td>T</td>\n",
       "      <td>2</td>\n",
       "      <td>2</td>\n",
       "      <td>0</td>\n",
       "      <td>0</td>\n",
       "      <td>[]</td>\n",
       "      <td>insert</td>\n",
       "    </tr>\n",
       "    <tr>\n",
       "      <th>2</th>\n",
       "      <td>63643bd1019eb46f777f14ba</td>\n",
       "      <td>temp_id</td>\n",
       "      <td>temp_problem_id</td>\n",
       "      <td>2022-11-03T22:08:12.250Z</td>\n",
       "      <td>2022-11-03T22:08:17.255Z</td>\n",
       "      <td>2022-11-03 18:08:14.184</td>\n",
       "      <td>h</td>\n",
       "      <td>2</td>\n",
       "      <td>2</td>\n",
       "      <td>1</td>\n",
       "      <td>1</td>\n",
       "      <td>[]</td>\n",
       "      <td>insert</td>\n",
       "    </tr>\n",
       "  </tbody>\n",
       "</table>\n",
       "</div>"
      ],
      "text/plain": [
       "                 Session_ID  User_ID       Problem_ID  \\\n",
       "0  63643bd1019eb46f777f14ba  temp_id  temp_problem_id   \n",
       "1  63643bd1019eb46f777f14ba  temp_id  temp_problem_id   \n",
       "2  63643bd1019eb46f777f14ba  temp_id  temp_problem_id   \n",
       "\n",
       "         Problem_Start_Time          Problem_End_Time                    Time  \\\n",
       "0  2022-11-03T22:08:12.250Z  2022-11-03T22:08:17.255Z 2022-11-03 18:08:13.299   \n",
       "1  2022-11-03T22:08:12.250Z  2022-11-03T22:08:17.255Z 2022-11-03 18:08:14.016   \n",
       "2  2022-11-03T22:08:12.250Z  2022-11-03T22:08:17.255Z 2022-11-03 18:08:14.184   \n",
       "\n",
       "  Text_Change Start_Line End_Line Start_Char End_Char Tests_Passed Event_Type  \n",
       "0          \\n          1        1         21       21           []     insert  \n",
       "1           T          2        2          0        0           []     insert  \n",
       "2           h          2        2          1        1           []     insert  "
      ]
     },
     "execution_count": 13,
     "metadata": {},
     "output_type": "execute_result"
    }
   ],
   "source": [
    "df.head(3)"
   ]
  },
  {
   "cell_type": "code",
   "execution_count": null,
   "metadata": {},
   "outputs": [
    {
     "name": "stdout",
     "output_type": "stream",
     "text": [
      "Total number of edits: 3628\n",
      "Total number of insertion only events: 3084\n",
      "Total number of deletion only events: 488\n",
      "Total number of replacement events: 56\n"
     ]
    }
   ],
   "source": [
    "calc_statistics(df)"
   ]
  },
  {
   "cell_type": "code",
   "execution_count": null,
   "metadata": {},
   "outputs": [
    {
     "data": {
      "image/png": "[encoded data removed]",
      "text/plain": [
       "<Figure size 432x288 with 1 Axes>"
      ]
     },
     "metadata": {
      "needs_background": "light"
     },
     "output_type": "display_data"
    }
   ],
   "source": [
    "plot_kmeans_cluster(df)\n",
    "plt.savefig(img_path + \"kmeans.png\")"
   ]
  },
  {
   "cell_type": "code",
   "execution_count": null,
   "metadata": {},
   "outputs": [],
   "source": [
    "df2 = load_df(\"tests/example2.json\")"
   ]
  },
  {
   "cell_type": "code",
   "execution_count": null,
   "metadata": {},
   "outputs": [],
   "source": [
    "df2.head(3)"
   ]
  },
  {
   "cell_type": "code",
   "execution_count": null,
   "metadata": {},
   "outputs": [],
   "source": [
    "plot_parsable(df2)\n",
    "plt.savefig(img_path + \"parsable.png\")"
   ]
  },
  {
   "cell_type": "code",
   "execution_count": null,
   "metadata": {},
   "outputs": [],
   "source": [
    "plot_depth(df2)\n",
    "plt.savefig(img_path + \"depth.png\")"
   ]
  },
  {
   "cell_type": "code",
   "execution_count": null,
   "metadata": {},
   "outputs": [],
   "source": [
    "plot_depth(df2, four=True)\n",
    "plt.savefig(img_path + \"depth_four.png\")"
   ]
  },
  {
   "cell_type": "code",
   "execution_count": null,
   "metadata": {},
   "outputs": [],
   "source": [
    "df3 = load_df(\"tests/example.json\")"
   ]
  },
  {
   "cell_type": "code",
   "execution_count": null,
   "metadata": {},
   "outputs": [],
   "source": [
    "plot_letter_count(df3)\n",
    "plt.savefig(img_path + \"letter_count.png\")"
   ]
  },
  {
   "cell_type": "code",
   "execution_count": null,
   "metadata": {},
   "outputs": [],
   "source": [
    "plot_line_changes(df3)\n",
    "plt.savefig(img_path + \"line_changes.png\")"
   ]
  },
  {
   "cell_type": "code",
   "execution_count": null,
   "metadata": {},
   "outputs": [],
   "source": [
    "plot_edits(df3)\n",
    "plt.savefig(img_path + \"edits.png\")"
   ]
  },
  {
   "cell_type": "code",
   "execution_count": null,
   "metadata": {},
   "outputs": [],
   "source": [
    "plot_problem(df, \"6377c2b06f4750d88ff2a7b4\")\n",
    "plt.savefig(img_path + \"multi_problem.png\")"
   ]
  }
 ],
 "metadata": {
  "kernelspec": {
   "display_name": "Python 3.8.0 ('wmb')",
   "language": "python",
   "name": "python3"
  },
  "language_info": {
   "codemirror_mode": {
    "name": "ipython",
    "version": 3
   },
   "file_extension": ".py",
   "mimetype": "text/x-python",
   "name": "python",
   "nbconvert_exporter": "python",
   "pygments_lexer": "ipython3",
   "version": "3.8.0"
  },
  "orig_nbformat": 4,
  "vscode": {
   "interpreter": {
    "hash": "0bbc4eebeddf664acff84f2cec37ec3f59ad76830f67d162dc42dd45af18a4c2"
   }
  }
 },
 "nbformat": 4,
 "nbformat_minor": 2
}
